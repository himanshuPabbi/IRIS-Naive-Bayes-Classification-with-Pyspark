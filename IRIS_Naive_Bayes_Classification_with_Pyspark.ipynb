{
  "nbformat": 4,
  "nbformat_minor": 0,
  "metadata": {
    "colab": {
      "provenance": []
    },
    "kernelspec": {
      "name": "python3",
      "display_name": "Python 3"
    },
    "language_info": {
      "name": "python"
    }
  },
  "cells": [
    {
      "cell_type": "code",
      "execution_count": 1,
      "metadata": {
        "colab": {
          "base_uri": "https://localhost:8080/"
        },
        "id": "6Crxa7DGsI9V",
        "outputId": "79273bda-0ef3-4389-ac02-ddac3df51795"
      },
      "outputs": [
        {
          "output_type": "stream",
          "name": "stdout",
          "text": [
            "Collecting Pyspark\n",
            "  Downloading pyspark-3.5.1.tar.gz (317.0 MB)\n",
            "\u001b[2K     \u001b[90m━━━━━━━━━━━━━━━━━━━━━━━━━━━━━━━━━━━━━━━━\u001b[0m \u001b[32m317.0/317.0 MB\u001b[0m \u001b[31m3.9 MB/s\u001b[0m eta \u001b[36m0:00:00\u001b[0m\n",
            "\u001b[?25h  Preparing metadata (setup.py) ... \u001b[?25l\u001b[?25hdone\n",
            "Requirement already satisfied: py4j==0.10.9.7 in /usr/local/lib/python3.10/dist-packages (from Pyspark) (0.10.9.7)\n",
            "Building wheels for collected packages: Pyspark\n",
            "  Building wheel for Pyspark (setup.py) ... \u001b[?25l\u001b[?25hdone\n",
            "  Created wheel for Pyspark: filename=pyspark-3.5.1-py2.py3-none-any.whl size=317488493 sha256=542e97cf8900d696eee268abe168050c8e6520215ad258b134de9ed9bcadeb5f\n",
            "  Stored in directory: /root/.cache/pip/wheels/80/1d/60/2c256ed38dddce2fdd93be545214a63e02fbd8d74fb0b7f3a6\n",
            "Successfully built Pyspark\n",
            "Installing collected packages: Pyspark\n",
            "Successfully installed Pyspark-3.5.1\n"
          ]
        }
      ],
      "source": [
        "!pip install Pyspark\n"
      ]
    },
    {
      "cell_type": "code",
      "source": [
        "# start spark session\n",
        "from pyspark.sql import SparkSession"
      ],
      "metadata": {
        "id": "oXB-_MtesPe-"
      },
      "execution_count": 2,
      "outputs": []
    },
    {
      "cell_type": "code",
      "source": [
        "spark=SparkSession.builder.getOrCreate()\n"
      ],
      "metadata": {
        "id": "e_ZDL30gsS_2"
      },
      "execution_count": 3,
      "outputs": []
    },
    {
      "cell_type": "code",
      "source": [
        "spark\n"
      ],
      "metadata": {
        "colab": {
          "base_uri": "https://localhost:8080/",
          "height": 222
        },
        "id": "0doVHeuBsVoc",
        "outputId": "a6760597-776a-4f56-9dfc-5c87e8a37748"
      },
      "execution_count": 4,
      "outputs": [
        {
          "output_type": "execute_result",
          "data": {
            "text/plain": [
              "<pyspark.sql.session.SparkSession at 0x7e361f729930>"
            ],
            "text/html": [
              "\n",
              "            <div>\n",
              "                <p><b>SparkSession - in-memory</b></p>\n",
              "                \n",
              "        <div>\n",
              "            <p><b>SparkContext</b></p>\n",
              "\n",
              "            <p><a href=\"http://4998ccef620b:4040\">Spark UI</a></p>\n",
              "\n",
              "            <dl>\n",
              "              <dt>Version</dt>\n",
              "                <dd><code>v3.5.1</code></dd>\n",
              "              <dt>Master</dt>\n",
              "                <dd><code>local[*]</code></dd>\n",
              "              <dt>AppName</dt>\n",
              "                <dd><code>pyspark-shell</code></dd>\n",
              "            </dl>\n",
              "        </div>\n",
              "        \n",
              "            </div>\n",
              "        "
            ]
          },
          "metadata": {},
          "execution_count": 4
        }
      ]
    },
    {
      "cell_type": "code",
      "source": [
        "# read sklearn inbuilt data\n",
        "import pandas as pd\n",
        "import numpy as np\n",
        "from sklearn.datasets import load_iris\n",
        "iris = load_iris(as_frame=True)\n",
        "iris = iris.frame\n",
        "iris = spark.createDataFrame(iris)"
      ],
      "metadata": {
        "id": "gzzP7YH8sYUQ"
      },
      "execution_count": 5,
      "outputs": []
    },
    {
      "cell_type": "code",
      "source": [
        "iris.show()\n"
      ],
      "metadata": {
        "colab": {
          "base_uri": "https://localhost:8080/"
        },
        "id": "b9pKNIpXspW6",
        "outputId": "d2a3da1f-2b33-4b0c-f7e3-eda65c281fd0"
      },
      "execution_count": 6,
      "outputs": [
        {
          "output_type": "stream",
          "name": "stdout",
          "text": [
            "+-----------------+----------------+-----------------+----------------+------+\n",
            "|sepal length (cm)|sepal width (cm)|petal length (cm)|petal width (cm)|target|\n",
            "+-----------------+----------------+-----------------+----------------+------+\n",
            "|              5.1|             3.5|              1.4|             0.2|     0|\n",
            "|              4.9|             3.0|              1.4|             0.2|     0|\n",
            "|              4.7|             3.2|              1.3|             0.2|     0|\n",
            "|              4.6|             3.1|              1.5|             0.2|     0|\n",
            "|              5.0|             3.6|              1.4|             0.2|     0|\n",
            "|              5.4|             3.9|              1.7|             0.4|     0|\n",
            "|              4.6|             3.4|              1.4|             0.3|     0|\n",
            "|              5.0|             3.4|              1.5|             0.2|     0|\n",
            "|              4.4|             2.9|              1.4|             0.2|     0|\n",
            "|              4.9|             3.1|              1.5|             0.1|     0|\n",
            "|              5.4|             3.7|              1.5|             0.2|     0|\n",
            "|              4.8|             3.4|              1.6|             0.2|     0|\n",
            "|              4.8|             3.0|              1.4|             0.1|     0|\n",
            "|              4.3|             3.0|              1.1|             0.1|     0|\n",
            "|              5.8|             4.0|              1.2|             0.2|     0|\n",
            "|              5.7|             4.4|              1.5|             0.4|     0|\n",
            "|              5.4|             3.9|              1.3|             0.4|     0|\n",
            "|              5.1|             3.5|              1.4|             0.3|     0|\n",
            "|              5.7|             3.8|              1.7|             0.3|     0|\n",
            "|              5.1|             3.8|              1.5|             0.3|     0|\n",
            "+-----------------+----------------+-----------------+----------------+------+\n",
            "only showing top 20 rows\n",
            "\n"
          ]
        }
      ]
    },
    {
      "cell_type": "code",
      "source": [
        "iris.printSchema()\n"
      ],
      "metadata": {
        "colab": {
          "base_uri": "https://localhost:8080/"
        },
        "id": "toyUYsGFssEA",
        "outputId": "0f6195bb-dcf5-4363-a1bb-0f7e5a8203e0"
      },
      "execution_count": 7,
      "outputs": [
        {
          "output_type": "stream",
          "name": "stdout",
          "text": [
            "root\n",
            " |-- sepal length (cm): double (nullable = true)\n",
            " |-- sepal width (cm): double (nullable = true)\n",
            " |-- petal length (cm): double (nullable = true)\n",
            " |-- petal width (cm): double (nullable = true)\n",
            " |-- target: long (nullable = true)\n",
            "\n"
          ]
        }
      ]
    },
    {
      "cell_type": "code",
      "source": [
        "iris.columns\n"
      ],
      "metadata": {
        "colab": {
          "base_uri": "https://localhost:8080/"
        },
        "id": "mlIoEujOsxvg",
        "outputId": "3c357e5f-99ad-413e-a9a3-e7a113c090de"
      },
      "execution_count": 8,
      "outputs": [
        {
          "output_type": "execute_result",
          "data": {
            "text/plain": [
              "['sepal length (cm)',\n",
              " 'sepal width (cm)',\n",
              " 'petal length (cm)',\n",
              " 'petal width (cm)',\n",
              " 'target']"
            ]
          },
          "metadata": {},
          "execution_count": 8
        }
      ]
    },
    {
      "cell_type": "code",
      "source": [
        "from pyspark.ml.feature import VectorAssembler\n"
      ],
      "metadata": {
        "id": "sGRiWt5Qszc_"
      },
      "execution_count": 9,
      "outputs": []
    },
    {
      "cell_type": "code",
      "source": [
        "featureassembler= VectorAssembler(inputCols=['sepal length (cm)',\n",
        " 'sepal width (cm)',\n",
        " 'petal length (cm)',\n",
        " 'petal width (cm)'], outputCol='Features')"
      ],
      "metadata": {
        "id": "tsNig0f-s1qv"
      },
      "execution_count": 10,
      "outputs": []
    },
    {
      "cell_type": "code",
      "source": [
        "output = featureassembler.transform(iris)\n"
      ],
      "metadata": {
        "id": "0BWh240Ls4JE"
      },
      "execution_count": 11,
      "outputs": []
    },
    {
      "cell_type": "code",
      "source": [
        "output.show()\n"
      ],
      "metadata": {
        "colab": {
          "base_uri": "https://localhost:8080/"
        },
        "id": "6UHsPs8ws67c",
        "outputId": "36abf139-520a-4a28-e53a-29245c4fb3f2"
      },
      "execution_count": 12,
      "outputs": [
        {
          "output_type": "stream",
          "name": "stdout",
          "text": [
            "+-----------------+----------------+-----------------+----------------+------+-----------------+\n",
            "|sepal length (cm)|sepal width (cm)|petal length (cm)|petal width (cm)|target|         Features|\n",
            "+-----------------+----------------+-----------------+----------------+------+-----------------+\n",
            "|              5.1|             3.5|              1.4|             0.2|     0|[5.1,3.5,1.4,0.2]|\n",
            "|              4.9|             3.0|              1.4|             0.2|     0|[4.9,3.0,1.4,0.2]|\n",
            "|              4.7|             3.2|              1.3|             0.2|     0|[4.7,3.2,1.3,0.2]|\n",
            "|              4.6|             3.1|              1.5|             0.2|     0|[4.6,3.1,1.5,0.2]|\n",
            "|              5.0|             3.6|              1.4|             0.2|     0|[5.0,3.6,1.4,0.2]|\n",
            "|              5.4|             3.9|              1.7|             0.4|     0|[5.4,3.9,1.7,0.4]|\n",
            "|              4.6|             3.4|              1.4|             0.3|     0|[4.6,3.4,1.4,0.3]|\n",
            "|              5.0|             3.4|              1.5|             0.2|     0|[5.0,3.4,1.5,0.2]|\n",
            "|              4.4|             2.9|              1.4|             0.2|     0|[4.4,2.9,1.4,0.2]|\n",
            "|              4.9|             3.1|              1.5|             0.1|     0|[4.9,3.1,1.5,0.1]|\n",
            "|              5.4|             3.7|              1.5|             0.2|     0|[5.4,3.7,1.5,0.2]|\n",
            "|              4.8|             3.4|              1.6|             0.2|     0|[4.8,3.4,1.6,0.2]|\n",
            "|              4.8|             3.0|              1.4|             0.1|     0|[4.8,3.0,1.4,0.1]|\n",
            "|              4.3|             3.0|              1.1|             0.1|     0|[4.3,3.0,1.1,0.1]|\n",
            "|              5.8|             4.0|              1.2|             0.2|     0|[5.8,4.0,1.2,0.2]|\n",
            "|              5.7|             4.4|              1.5|             0.4|     0|[5.7,4.4,1.5,0.4]|\n",
            "|              5.4|             3.9|              1.3|             0.4|     0|[5.4,3.9,1.3,0.4]|\n",
            "|              5.1|             3.5|              1.4|             0.3|     0|[5.1,3.5,1.4,0.3]|\n",
            "|              5.7|             3.8|              1.7|             0.3|     0|[5.7,3.8,1.7,0.3]|\n",
            "|              5.1|             3.8|              1.5|             0.3|     0|[5.1,3.8,1.5,0.3]|\n",
            "+-----------------+----------------+-----------------+----------------+------+-----------------+\n",
            "only showing top 20 rows\n",
            "\n"
          ]
        }
      ]
    },
    {
      "cell_type": "code",
      "source": [
        "modeldata=output.select('Features','target')\n"
      ],
      "metadata": {
        "id": "SmTuytGLs-GS"
      },
      "execution_count": 13,
      "outputs": []
    },
    {
      "cell_type": "code",
      "source": [
        "modeldata.show()\n"
      ],
      "metadata": {
        "colab": {
          "base_uri": "https://localhost:8080/"
        },
        "id": "_BuUATR5tBu-",
        "outputId": "14538e43-2a35-4ac9-9cc5-8f0f984b64ad"
      },
      "execution_count": 14,
      "outputs": [
        {
          "output_type": "stream",
          "name": "stdout",
          "text": [
            "+-----------------+------+\n",
            "|         Features|target|\n",
            "+-----------------+------+\n",
            "|[5.1,3.5,1.4,0.2]|     0|\n",
            "|[4.9,3.0,1.4,0.2]|     0|\n",
            "|[4.7,3.2,1.3,0.2]|     0|\n",
            "|[4.6,3.1,1.5,0.2]|     0|\n",
            "|[5.0,3.6,1.4,0.2]|     0|\n",
            "|[5.4,3.9,1.7,0.4]|     0|\n",
            "|[4.6,3.4,1.4,0.3]|     0|\n",
            "|[5.0,3.4,1.5,0.2]|     0|\n",
            "|[4.4,2.9,1.4,0.2]|     0|\n",
            "|[4.9,3.1,1.5,0.1]|     0|\n",
            "|[5.4,3.7,1.5,0.2]|     0|\n",
            "|[4.8,3.4,1.6,0.2]|     0|\n",
            "|[4.8,3.0,1.4,0.1]|     0|\n",
            "|[4.3,3.0,1.1,0.1]|     0|\n",
            "|[5.8,4.0,1.2,0.2]|     0|\n",
            "|[5.7,4.4,1.5,0.4]|     0|\n",
            "|[5.4,3.9,1.3,0.4]|     0|\n",
            "|[5.1,3.5,1.4,0.3]|     0|\n",
            "|[5.7,3.8,1.7,0.3]|     0|\n",
            "|[5.1,3.8,1.5,0.3]|     0|\n",
            "+-----------------+------+\n",
            "only showing top 20 rows\n",
            "\n"
          ]
        }
      ]
    },
    {
      "cell_type": "code",
      "source": [
        "# split data\n",
        "train_data,test_data=modeldata.randomSplit([0.8,0.2])"
      ],
      "metadata": {
        "id": "warPiI7wtEKY"
      },
      "execution_count": 15,
      "outputs": []
    },
    {
      "cell_type": "code",
      "source": [
        "train_data.show()\n"
      ],
      "metadata": {
        "colab": {
          "base_uri": "https://localhost:8080/"
        },
        "id": "2s9Fyz_btHQ5",
        "outputId": "c2688599-2a67-42f1-a9b9-2466506bfb1e"
      },
      "execution_count": 16,
      "outputs": [
        {
          "output_type": "stream",
          "name": "stdout",
          "text": [
            "+-----------------+------+\n",
            "|         Features|target|\n",
            "+-----------------+------+\n",
            "|[4.3,3.0,1.1,0.1]|     0|\n",
            "|[4.4,2.9,1.4,0.2]|     0|\n",
            "|[4.4,3.0,1.3,0.2]|     0|\n",
            "|[4.4,3.2,1.3,0.2]|     0|\n",
            "|[4.5,2.3,1.3,0.3]|     0|\n",
            "|[4.6,3.1,1.5,0.2]|     0|\n",
            "|[4.6,3.2,1.4,0.2]|     0|\n",
            "|[4.6,3.4,1.4,0.3]|     0|\n",
            "|[4.6,3.6,1.0,0.2]|     0|\n",
            "|[4.7,3.2,1.3,0.2]|     0|\n",
            "|[4.8,3.0,1.4,0.1]|     0|\n",
            "|[4.8,3.0,1.4,0.3]|     0|\n",
            "|[4.8,3.1,1.6,0.2]|     0|\n",
            "|[4.8,3.4,1.9,0.2]|     0|\n",
            "|[4.9,2.4,3.3,1.0]|     1|\n",
            "|[4.9,3.0,1.4,0.2]|     0|\n",
            "|[4.9,3.1,1.5,0.1]|     0|\n",
            "|[4.9,3.6,1.4,0.1]|     0|\n",
            "|[5.0,2.0,3.5,1.0]|     1|\n",
            "|[5.0,3.0,1.6,0.2]|     0|\n",
            "+-----------------+------+\n",
            "only showing top 20 rows\n",
            "\n"
          ]
        }
      ]
    },
    {
      "cell_type": "code",
      "source": [
        "# naive bayes model\n",
        "from pyspark.ml.classification import NaiveBayes"
      ],
      "metadata": {
        "id": "pR8hb58JtJWS"
      },
      "execution_count": 17,
      "outputs": []
    },
    {
      "cell_type": "code",
      "source": [
        "nb = NaiveBayes(featuresCol='Features', labelCol='target')\n"
      ],
      "metadata": {
        "id": "iddMh6jMtN3b"
      },
      "execution_count": 18,
      "outputs": []
    },
    {
      "cell_type": "code",
      "source": [
        "nb=nb.fit(train_data)\n"
      ],
      "metadata": {
        "id": "z0LvRwE6tQ4M"
      },
      "execution_count": 19,
      "outputs": []
    },
    {
      "cell_type": "code",
      "source": [
        "y_pred = nb.transform(test_data)\n"
      ],
      "metadata": {
        "id": "YhqNGLrstTFl"
      },
      "execution_count": 20,
      "outputs": []
    },
    {
      "cell_type": "code",
      "source": [
        "y_pred.show()\n"
      ],
      "metadata": {
        "colab": {
          "base_uri": "https://localhost:8080/"
        },
        "id": "uUFgb3dftVgX",
        "outputId": "32fa6c7f-524f-40d2-e443-622e50affd7e"
      },
      "execution_count": 21,
      "outputs": [
        {
          "output_type": "stream",
          "name": "stdout",
          "text": [
            "+-----------------+------+--------------------+--------------------+----------+\n",
            "|         Features|target|       rawPrediction|         probability|prediction|\n",
            "+-----------------+------+--------------------+--------------------+----------+\n",
            "|[4.7,3.2,1.6,0.2]|     0|[-11.711945770724...|[0.67427159159554...|       0.0|\n",
            "|[4.8,3.4,1.6,0.2]|     0|[-11.999678157167...|[0.70401394724019...|       0.0|\n",
            "|[4.9,3.1,1.5,0.2]|     0|[-11.552402138936...|[0.68615090626687...|       0.0|\n",
            "|[5.0,3.4,1.5,0.2]|     0|[-11.948380210224...|[0.72724413450924...|       0.0|\n",
            "|[5.0,3.4,1.6,0.4]|     0|[-12.866354780443...|[0.65448620747553...|       0.0|\n",
            "|[5.2,3.4,1.4,0.2]|     0|[-11.897082263280...|[0.74927405659588...|       0.0|\n",
            "|[5.4,3.4,1.7,0.2]|     0|[-12.620904238144...|[0.71235904679819...|       0.0|\n",
            "|[5.5,2.3,4.0,1.3]|     1|[-19.941452515722...|[0.04887442905957...|       1.0|\n",
            "|[5.5,3.5,1.3,0.2]|     0|[-12.025271017935...|[0.78370268669890...|       0.0|\n",
            "|[6.1,2.9,4.7,1.4]|     1|[-22.736929883360...|[0.04100342915530...|       1.0|\n",
            "|[6.7,3.1,4.4,1.4]|     1|[-22.799527412219...|[0.06422258390419...|       1.0|\n",
            "|[7.0,3.2,4.7,1.4]|     1|[-23.702836088681...|[0.05802185076928...|       1.0|\n",
            "|[5.0,2.3,3.3,1.0]|     1|[-17.142495684137...|[0.10663801498538...|       1.0|\n",
            "|[5.4,3.0,4.5,1.5]|     1|[-22.321025784907...|[0.03855753050024...|       1.0|\n",
            "|[5.7,2.9,4.2,1.3]|     1|[-21.120968619201...|[0.06213880008342...|       1.0|\n",
            "|[5.8,2.7,5.1,1.9]|     2|[-24.892321859636...|[0.01303140450319...|       2.0|\n",
            "|[6.0,2.7,5.1,1.6]|     1|[-23.948512008492...|[0.02032656076071...|       2.0|\n",
            "|[6.0,2.9,4.5,1.5]|     1|[-22.640226200587...|[0.04088724893558...|       1.0|\n",
            "|[6.3,2.5,5.0,1.9]|     2|[-24.838255593265...|[0.01378805033105...|       2.0|\n",
            "|[6.3,3.4,5.6,2.4]|     2|[-28.785633113997...|[0.00766604830680...|       2.0|\n",
            "+-----------------+------+--------------------+--------------------+----------+\n",
            "only showing top 20 rows\n",
            "\n"
          ]
        }
      ]
    },
    {
      "cell_type": "code",
      "source": [
        "# confusion matrix\n",
        "y_pred.groupBy('target', 'prediction').count().show()"
      ],
      "metadata": {
        "colab": {
          "base_uri": "https://localhost:8080/"
        },
        "id": "6pRtJ8gCtXRZ",
        "outputId": "62d07858-beed-4f5e-aac8-2bf6af2f0dfc"
      },
      "execution_count": 22,
      "outputs": [
        {
          "output_type": "stream",
          "name": "stdout",
          "text": [
            "+------+----------+-----+\n",
            "|target|prediction|count|\n",
            "+------+----------+-----+\n",
            "|     0|       0.0|    8|\n",
            "|     1|       1.0|    8|\n",
            "|     1|       2.0|    1|\n",
            "|     2|       2.0|    9|\n",
            "|     2|       1.0|    1|\n",
            "+------+----------+-----+\n",
            "\n"
          ]
        }
      ]
    },
    {
      "cell_type": "code",
      "source": [
        "from sklearn.metrics import confusion_matrix\n",
        "pred=y_pred.select(\"prediction\").collect()\n",
        "orig=y_pred.select(\"target\").collect()\n",
        "print(confusion_matrix(orig, pred))"
      ],
      "metadata": {
        "colab": {
          "base_uri": "https://localhost:8080/"
        },
        "id": "FAyqwDoytbIT",
        "outputId": "e0ae28be-a780-4d3e-bda9-af53d64871bc"
      },
      "execution_count": 23,
      "outputs": [
        {
          "output_type": "stream",
          "name": "stdout",
          "text": [
            "[[8 0 0]\n",
            " [0 8 1]\n",
            " [0 1 9]]\n"
          ]
        }
      ]
    },
    {
      "cell_type": "code",
      "source": [
        "# evaluation\n",
        "from pyspark.ml.evaluation import MulticlassClassificationEvaluator"
      ],
      "metadata": {
        "id": "vVey3yrOtdR3"
      },
      "execution_count": 24,
      "outputs": []
    },
    {
      "cell_type": "code",
      "source": [
        "evaluator = MulticlassClassificationEvaluator(\n",
        "    labelCol='target', predictionCol='prediction')"
      ],
      "metadata": {
        "id": "mJLT2JLutgHL"
      },
      "execution_count": 25,
      "outputs": []
    },
    {
      "cell_type": "code",
      "source": [
        "accuracy = evaluator.evaluate(y_pred)\n",
        "accuracy"
      ],
      "metadata": {
        "colab": {
          "base_uri": "https://localhost:8080/"
        },
        "id": "14MUGibatiWt",
        "outputId": "ded25ad3-1e0c-4536-945b-56b201634a78"
      },
      "execution_count": 26,
      "outputs": [
        {
          "output_type": "execute_result",
          "data": {
            "text/plain": [
              "0.9259259259259258"
            ]
          },
          "metadata": {},
          "execution_count": 26
        }
      ]
    },
    {
      "cell_type": "code",
      "source": [
        "# close connection to spark\n",
        "spark.stop()"
      ],
      "metadata": {
        "id": "QG5BHXbMtk0X"
      },
      "execution_count": 27,
      "outputs": []
    },
    {
      "cell_type": "code",
      "source": [],
      "metadata": {
        "id": "u3VoLtoBtnN4"
      },
      "execution_count": null,
      "outputs": []
    }
  ]
}